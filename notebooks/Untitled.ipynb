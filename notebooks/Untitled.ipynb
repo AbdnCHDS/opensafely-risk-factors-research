{
 "cells": [
  {
   "cell_type": "code",
   "execution_count": 15,
   "metadata": {},
   "outputs": [
    {
     "ename": "NameError",
     "evalue": "name 'pandas' is not defined",
     "output_type": "error",
     "traceback": [
      "\u001b[0;31m---------------------------------------------------------------------------\u001b[0m",
      "\u001b[0;31mNameError\u001b[0m                                 Traceback (most recent call last)",
      "\u001b[0;32m<ipython-input-15-83f9e4fb838b>\u001b[0m in \u001b[0;36m<module>\u001b[0;34m\u001b[0m\n\u001b[1;32m      2\u001b[0m \u001b[0;32mimport\u001b[0m \u001b[0mmatplotlib\u001b[0m\u001b[0;34m.\u001b[0m\u001b[0mpyplot\u001b[0m \u001b[0;32mas\u001b[0m \u001b[0mplt\u001b[0m\u001b[0;34m\u001b[0m\u001b[0;34m\u001b[0m\u001b[0m\n\u001b[1;32m      3\u001b[0m \u001b[0;32mfrom\u001b[0m \u001b[0mdatetime\u001b[0m \u001b[0;32mimport\u001b[0m \u001b[0mdatetime\u001b[0m\u001b[0;34m\u001b[0m\u001b[0;34m\u001b[0m\u001b[0m\n\u001b[0;32m----> 4\u001b[0;31m \u001b[0mpandas\u001b[0m\u001b[0;34m.\u001b[0m\u001b[0mBooleanDtype\u001b[0m\u001b[0;34m\u001b[0m\u001b[0;34m\u001b[0m\u001b[0m\n\u001b[0m",
      "\u001b[0;31mNameError\u001b[0m: name 'pandas' is not defined"
     ]
    }
   ],
   "source": [
    "import pandas as pd\n",
    "import matplotlib.pyplot as plt\n",
    "from datetime import datetime\n"
   ]
  },
  {
   "cell_type": "code",
   "execution_count": 21,
   "metadata": {},
   "outputs": [
    {
     "name": "stderr",
     "output_type": "stream",
     "text": [
      "<ipython-input-21-964e0ecd2554>:9: ParserWarning: Both a converter and dtype were specified for column asthma - only the converter will be used\n",
      "  df = pd.read_csv(\"../analysis/input.csv\",\n"
     ]
    }
   ],
   "source": [
    "def tobool(val):\n",
    "    if val == \"\":\n",
    "        return False\n",
    "    if val == \"0\":\n",
    "        return False\n",
    "    return True\n",
    "        \n",
    "    \n",
    "df = pd.read_csv(\"../analysis/input.csv\", \n",
    "                 dtype={'smoking_status': 'category', \n",
    "                        'imd': 'category', \n",
    "                        'age': 'int', \n",
    "                        'asthma': 'boolean',\n",
    "                        'hba1c_percentage': 'float'}, \n",
    "                 converters = {'asthma': tobool},\n",
    "                 parse_dates=['icu_date_admitted'])\n",
    "\n",
    "# pd.read_csv(pd.compat.StringIO(data), dtype={'col1':'category'})"
   ]
  },
  {
   "cell_type": "code",
   "execution_count": 34,
   "metadata": {},
   "outputs": [],
   "source": [
    "asd = df.describe(include='all')"
   ]
  },
  {
   "cell_type": "code",
   "execution_count": 38,
   "metadata": {},
   "outputs": [],
   "source": [
    "qwe = asd.T"
   ]
  },
  {
   "cell_type": "code",
   "execution_count": 39,
   "metadata": {},
   "outputs": [],
   "source": [
    "qwe['plot'] = 5"
   ]
  },
  {
   "cell_type": "code",
   "execution_count": 52,
   "metadata": {},
   "outputs": [
    {
     "data": {
      "text/plain": [
       "patient_id                                       int64\n",
       "icu_date_admitted                       datetime64[ns]\n",
       "died_date_cpns                                  object\n",
       "died_ons_covid_flag_any                          int64\n",
       "died_ons_covid_flag_underlying                   int64\n",
       "died_date_ons                                   object\n",
       "age                                              int64\n",
       "sex                                             object\n",
       "imd                                           category\n",
       "rural_urban                                      int64\n",
       "stp                                             object\n",
       "region                                          object\n",
       "bmi                                            float64\n",
       "bmi_date_measured                               object\n",
       "smoking_status_date                             object\n",
       "most_recent_unclear_smoking_cat                 object\n",
       "most_recent_unclear_smoking_numeric            float64\n",
       "most_recent_unclear_smoking_cat_date            object\n",
       "ethnicity                                      float64\n",
       "ethnicity_date                                 float64\n",
       "chronic_respiratory_disease                     object\n",
       "chronic_cardiac_disease                         object\n",
       "diabetes                                        object\n",
       "lung_cancer                                     object\n",
       "haem_cancer                                     object\n",
       "other_cancer                                    object\n",
       "bone_marrow_transplant                          object\n",
       "chemo_radio_therapy                             object\n",
       "chronic_liver_disease                           object\n",
       "other_neuro                                     object\n",
       "stroke                                          object\n",
       "dementia                                        object\n",
       "creatinine                                     float64\n",
       "creatinine_date                                 object\n",
       "dialysis                                        object\n",
       "organ_transplant                                object\n",
       "dysplenia                                       object\n",
       "sickle_cell                                     object\n",
       "aplastic_anaemia                                object\n",
       "hiv                                             object\n",
       "permanent_immunodeficiency                      object\n",
       "temporary_immunodeficiency                      object\n",
       "hypertension                                    object\n",
       "bp_sys                                         float64\n",
       "bp_sys_date_measured                            object\n",
       "bp_dias                                        float64\n",
       "bp_dias_date_measured                           object\n",
       "hba1c_mmol_per_mol                             float64\n",
       "hba1c_mmol_per_mol_date                         object\n",
       "hba1c_percentage                               float64\n",
       "hba1c_percentage_date                           object\n",
       "ra_sle_psoriasis                                object\n",
       "gi_bleed_and_ulcer                              object\n",
       "inflammatory_bowel_disease                      object\n",
       "smoking_status                                category\n",
       "asthma                                            bool\n",
       "dtype: object"
      ]
     },
     "execution_count": 52,
     "metadata": {},
     "output_type": "execute_result"
    }
   ],
   "source": [
    "df.dtypes"
   ]
  },
  {
   "cell_type": "code",
   "execution_count": 22,
   "metadata": {},
   "outputs": [
    {
     "data": {
      "text/plain": [
       "False    90362\n",
       "True     14305\n",
       "Name: asthma, dtype: int64"
      ]
     },
     "execution_count": 22,
     "metadata": {},
     "output_type": "execute_result"
    }
   ],
   "source": [
    "df.asthma.value_counts()"
   ]
  },
  {
   "cell_type": "code",
   "execution_count": null,
   "metadata": {},
   "outputs": [],
   "source": [
    "def sparkline(data, chart_type=\"hist\"):\n",
    "    fill_color='blue'\n",
    "    fill_alpha=0.1\n",
    "    point_fill='red'\n",
    "    point_alpha=1\n",
    "    point_size=6\n",
    "    fig = plt.figure(figsize=(4, 0.25))\n",
    "    ax = fig.add_subplot(111)\n",
    "\n",
    "    if chart_type == \"hist\":\n",
    "        plt.hist(data,)\n",
    "    elif chart_type == \"bar\":\n",
    "        plt.bar(data, height=3)\n",
    "    \n",
    "    # turn off all axis annotations    \n",
    "    ax.axis('off')\n",
    "\n",
    "    # squeeze axis to the edges of the figure\n",
    "    fig.subplots_adjust(left=0)\n",
    "    fig.subplots_adjust(right=0.99)\n",
    "    fig.subplots_adjust(bottom=0.1)\n",
    "    fig.subplots_adjust(top=0.9)"
   ]
  },
  {
   "cell_type": "code",
   "execution_count": 5,
   "metadata": {},
   "outputs": [
    {
     "data": {
      "text/html": [
       "<div>\n",
       "<style scoped>\n",
       "    .dataframe tbody tr th:only-of-type {\n",
       "        vertical-align: middle;\n",
       "    }\n",
       "\n",
       "    .dataframe tbody tr th {\n",
       "        vertical-align: top;\n",
       "    }\n",
       "\n",
       "    .dataframe thead th {\n",
       "        text-align: right;\n",
       "    }\n",
       "</style>\n",
       "<table border=\"1\" class=\"dataframe\">\n",
       "  <thead>\n",
       "    <tr style=\"text-align: right;\">\n",
       "      <th></th>\n",
       "      <th>patient_id</th>\n",
       "      <th>icu_date_admitted</th>\n",
       "      <th>died_date_cpns</th>\n",
       "      <th>died_ons_covid_flag_any</th>\n",
       "      <th>died_ons_covid_flag_underlying</th>\n",
       "      <th>died_date_ons</th>\n",
       "      <th>age</th>\n",
       "      <th>sex</th>\n",
       "      <th>imd</th>\n",
       "      <th>rural_urban</th>\n",
       "      <th>...</th>\n",
       "      <th>bp_dias_date_measured</th>\n",
       "      <th>hba1c_mmol_per_mol</th>\n",
       "      <th>hba1c_mmol_per_mol_date</th>\n",
       "      <th>hba1c_percentage</th>\n",
       "      <th>hba1c_percentage_date</th>\n",
       "      <th>ra_sle_psoriasis</th>\n",
       "      <th>gi_bleed_and_ulcer</th>\n",
       "      <th>inflammatory_bowel_disease</th>\n",
       "      <th>smoking_status</th>\n",
       "      <th>asthma</th>\n",
       "    </tr>\n",
       "  </thead>\n",
       "  <tbody>\n",
       "    <tr>\n",
       "      <th>0</th>\n",
       "      <td>1323602</td>\n",
       "      <td>NaN</td>\n",
       "      <td>NaN</td>\n",
       "      <td>0</td>\n",
       "      <td>0</td>\n",
       "      <td>NaN</td>\n",
       "      <td>88</td>\n",
       "      <td>F</td>\n",
       "      <td>21000</td>\n",
       "      <td>1</td>\n",
       "      <td>...</td>\n",
       "      <td>2001-07</td>\n",
       "      <td>0.0</td>\n",
       "      <td>NaN</td>\n",
       "      <td>0.0</td>\n",
       "      <td>NaN</td>\n",
       "      <td>NaN</td>\n",
       "      <td>NaN</td>\n",
       "      <td>NaN</td>\n",
       "      <td>S</td>\n",
       "      <td>0</td>\n",
       "    </tr>\n",
       "    <tr>\n",
       "      <th>1</th>\n",
       "      <td>1323717</td>\n",
       "      <td>NaN</td>\n",
       "      <td>NaN</td>\n",
       "      <td>0</td>\n",
       "      <td>0</td>\n",
       "      <td>NaN</td>\n",
       "      <td>88</td>\n",
       "      <td>F</td>\n",
       "      <td>21000</td>\n",
       "      <td>1</td>\n",
       "      <td>...</td>\n",
       "      <td>2001-07</td>\n",
       "      <td>0.0</td>\n",
       "      <td>NaN</td>\n",
       "      <td>0.0</td>\n",
       "      <td>NaN</td>\n",
       "      <td>NaN</td>\n",
       "      <td>NaN</td>\n",
       "      <td>NaN</td>\n",
       "      <td>S</td>\n",
       "      <td>0</td>\n",
       "    </tr>\n",
       "    <tr>\n",
       "      <th>2</th>\n",
       "      <td>1323733</td>\n",
       "      <td>NaN</td>\n",
       "      <td>NaN</td>\n",
       "      <td>0</td>\n",
       "      <td>0</td>\n",
       "      <td>NaN</td>\n",
       "      <td>88</td>\n",
       "      <td>F</td>\n",
       "      <td>21000</td>\n",
       "      <td>1</td>\n",
       "      <td>...</td>\n",
       "      <td>2001-07</td>\n",
       "      <td>0.0</td>\n",
       "      <td>NaN</td>\n",
       "      <td>0.0</td>\n",
       "      <td>NaN</td>\n",
       "      <td>NaN</td>\n",
       "      <td>NaN</td>\n",
       "      <td>NaN</td>\n",
       "      <td>S</td>\n",
       "      <td>0</td>\n",
       "    </tr>\n",
       "    <tr>\n",
       "      <th>3</th>\n",
       "      <td>1323749</td>\n",
       "      <td>NaN</td>\n",
       "      <td>NaN</td>\n",
       "      <td>0</td>\n",
       "      <td>0</td>\n",
       "      <td>NaN</td>\n",
       "      <td>55</td>\n",
       "      <td>M</td>\n",
       "      <td>1200</td>\n",
       "      <td>3</td>\n",
       "      <td>...</td>\n",
       "      <td>2001-06</td>\n",
       "      <td>0.0</td>\n",
       "      <td>NaN</td>\n",
       "      <td>6.1</td>\n",
       "      <td>2001-06</td>\n",
       "      <td>NaN</td>\n",
       "      <td>NaN</td>\n",
       "      <td>NaN</td>\n",
       "      <td>E</td>\n",
       "      <td>0</td>\n",
       "    </tr>\n",
       "    <tr>\n",
       "      <th>4</th>\n",
       "      <td>1327008</td>\n",
       "      <td>NaN</td>\n",
       "      <td>NaN</td>\n",
       "      <td>0</td>\n",
       "      <td>0</td>\n",
       "      <td>NaN</td>\n",
       "      <td>55</td>\n",
       "      <td>M</td>\n",
       "      <td>1200</td>\n",
       "      <td>3</td>\n",
       "      <td>...</td>\n",
       "      <td>2001-06</td>\n",
       "      <td>0.0</td>\n",
       "      <td>NaN</td>\n",
       "      <td>6.1</td>\n",
       "      <td>2001-06</td>\n",
       "      <td>NaN</td>\n",
       "      <td>NaN</td>\n",
       "      <td>NaN</td>\n",
       "      <td>E</td>\n",
       "      <td>0</td>\n",
       "    </tr>\n",
       "  </tbody>\n",
       "</table>\n",
       "<p>5 rows × 56 columns</p>\n",
       "</div>"
      ],
      "text/plain": [
       "   patient_id icu_date_admitted died_date_cpns  died_ons_covid_flag_any  \\\n",
       "0     1323602               NaN            NaN                        0   \n",
       "1     1323717               NaN            NaN                        0   \n",
       "2     1323733               NaN            NaN                        0   \n",
       "3     1323749               NaN            NaN                        0   \n",
       "4     1327008               NaN            NaN                        0   \n",
       "\n",
       "   died_ons_covid_flag_underlying died_date_ons  age sex    imd  rural_urban  \\\n",
       "0                               0           NaN   88   F  21000            1   \n",
       "1                               0           NaN   88   F  21000            1   \n",
       "2                               0           NaN   88   F  21000            1   \n",
       "3                               0           NaN   55   M   1200            3   \n",
       "4                               0           NaN   55   M   1200            3   \n",
       "\n",
       "   ... bp_dias_date_measured hba1c_mmol_per_mol  hba1c_mmol_per_mol_date  \\\n",
       "0  ...               2001-07                0.0                      NaN   \n",
       "1  ...               2001-07                0.0                      NaN   \n",
       "2  ...               2001-07                0.0                      NaN   \n",
       "3  ...               2001-06                0.0                      NaN   \n",
       "4  ...               2001-06                0.0                      NaN   \n",
       "\n",
       "  hba1c_percentage hba1c_percentage_date ra_sle_psoriasis  gi_bleed_and_ulcer  \\\n",
       "0              0.0                   NaN              NaN                 NaN   \n",
       "1              0.0                   NaN              NaN                 NaN   \n",
       "2              0.0                   NaN              NaN                 NaN   \n",
       "3              6.1               2001-06              NaN                 NaN   \n",
       "4              6.1               2001-06              NaN                 NaN   \n",
       "\n",
       "  inflammatory_bowel_disease  smoking_status  asthma  \n",
       "0                        NaN               S       0  \n",
       "1                        NaN               S       0  \n",
       "2                        NaN               S       0  \n",
       "3                        NaN               E       0  \n",
       "4                        NaN               E       0  \n",
       "\n",
       "[5 rows x 56 columns]"
      ]
     },
     "execution_count": 5,
     "metadata": {},
     "output_type": "execute_result"
    }
   ],
   "source": [
    "df.head()"
   ]
  },
  {
   "cell_type": "code",
   "execution_count": null,
   "metadata": {},
   "outputs": [],
   "source": []
  },
  {
   "cell_type": "code",
   "execution_count": 30,
   "metadata": {},
   "outputs": [
    {
     "data": {
      "image/png": "[encoded data removed]",
      "text/plain": [
       "<Figure size 288x18 with 1 Axes>"
      ]
     },
     "metadata": {
      "needs_background": "light"
     },
     "output_type": "display_data"
    },
    {
     "data": {
      "image/png": "[encoded data removed]",
      "text/plain": [
       "<Figure size 288x18 with 1 Axes>"
      ]
     },
     "metadata": {
      "needs_background": "light"
     },
     "output_type": "display_data"
    },
    {
     "data": {
      "image/png": "[encoded data removed]",
      "text/plain": [
       "<Figure size 288x18 with 1 Axes>"
      ]
     },
     "metadata": {
      "needs_background": "light"
     },
     "output_type": "display_data"
    },
    {
     "data": {
      "image/png": "[encoded data removed]",
      "text/plain": [
       "<Figure size 288x18 with 1 Axes>"
      ]
     },
     "metadata": {
      "needs_background": "light"
     },
     "output_type": "display_data"
    },
    {
     "data": {
      "image/png": "[encoded data removed]",
      "text/plain": [
       "<Figure size 288x18 with 1 Axes>"
      ]
     },
     "metadata": {
      "needs_background": "light"
     },
     "output_type": "display_data"
    },
    {
     "data": {
      "image/png": "[encoded data removed]",
      "text/plain": [
       "<Figure size 288x18 with 1 Axes>"
      ]
     },
     "metadata": {
      "needs_background": "light"
     },
     "output_type": "display_data"
    }
   ],
   "source": [
    "for col in df.columns:\n",
    "    if col.endswith(\"_date\"):\n",
    "        sparkline(pd.to_datetime(df[col]))"
   ]
  },
  {
   "cell_type": "code",
   "execution_count": 32,
   "metadata": {},
   "outputs": [
    {
     "data": {
      "image/png": "[encoded data removed]",
      "text/plain": [
       "<Figure size 288x18 with 1 Axes>"
      ]
     },
     "metadata": {
      "needs_background": "light"
     },
     "output_type": "display_data"
    },
    {
     "data": {
      "image/png": "[encoded data removed]",
      "text/plain": [
       "<Figure size 288x18 with 1 Axes>"
      ]
     },
     "metadata": {
      "needs_background": "light"
     },
     "output_type": "display_data"
    }
   ],
   "source": [
    "for col in df.columns:\n",
    "    if \"flag\" in col:\n",
    "        sparkline(df[col])"
   ]
  },
  {
   "cell_type": "code",
   "execution_count": 35,
   "metadata": {},
   "outputs": [
    {
     "data": {
      "text/html": [
       "<div>\n",
       "<style scoped>\n",
       "    .dataframe tbody tr th:only-of-type {\n",
       "        vertical-align: middle;\n",
       "    }\n",
       "\n",
       "    .dataframe tbody tr th {\n",
       "        vertical-align: top;\n",
       "    }\n",
       "\n",
       "    .dataframe thead th {\n",
       "        text-align: right;\n",
       "    }\n",
       "</style>\n",
       "<table border=\"1\" class=\"dataframe\">\n",
       "  <thead>\n",
       "    <tr style=\"text-align: right;\">\n",
       "      <th></th>\n",
       "      <th>patient_id</th>\n",
       "      <th>icu_date_admitted</th>\n",
       "      <th>died_date_cpns</th>\n",
       "      <th>died_ons_covid_flag_any</th>\n",
       "      <th>died_ons_covid_flag_underlying</th>\n",
       "      <th>died_date_ons</th>\n",
       "      <th>age</th>\n",
       "      <th>sex</th>\n",
       "      <th>imd</th>\n",
       "      <th>rural_urban</th>\n",
       "      <th>...</th>\n",
       "      <th>bp_dias</th>\n",
       "      <th>bp_dias_date_measured</th>\n",
       "      <th>hba1c_mmol_per_mol</th>\n",
       "      <th>hba1c_mmol_per_mol_date</th>\n",
       "      <th>hba1c_percentage</th>\n",
       "      <th>hba1c_percentage_date</th>\n",
       "      <th>ra_sle_psoriasis</th>\n",
       "      <th>gi_bleed_and_ulcer</th>\n",
       "      <th>smoking_status</th>\n",
       "      <th>asthma</th>\n",
       "    </tr>\n",
       "    <tr>\n",
       "      <th>inflammatory_bowel_disease</th>\n",
       "      <th></th>\n",
       "      <th></th>\n",
       "      <th></th>\n",
       "      <th></th>\n",
       "      <th></th>\n",
       "      <th></th>\n",
       "      <th></th>\n",
       "      <th></th>\n",
       "      <th></th>\n",
       "      <th></th>\n",
       "      <th></th>\n",
       "      <th></th>\n",
       "      <th></th>\n",
       "      <th></th>\n",
       "      <th></th>\n",
       "      <th></th>\n",
       "      <th></th>\n",
       "      <th></th>\n",
       "      <th></th>\n",
       "      <th></th>\n",
       "      <th></th>\n",
       "    </tr>\n",
       "  </thead>\n",
       "  <tbody>\n",
       "    <tr>\n",
       "      <th>1900-01</th>\n",
       "      <td>3</td>\n",
       "      <td>0</td>\n",
       "      <td>0</td>\n",
       "      <td>3</td>\n",
       "      <td>3</td>\n",
       "      <td>0</td>\n",
       "      <td>3</td>\n",
       "      <td>3</td>\n",
       "      <td>3</td>\n",
       "      <td>3</td>\n",
       "      <td>...</td>\n",
       "      <td>3</td>\n",
       "      <td>3</td>\n",
       "      <td>3</td>\n",
       "      <td>0</td>\n",
       "      <td>3</td>\n",
       "      <td>0</td>\n",
       "      <td>0</td>\n",
       "      <td>0</td>\n",
       "      <td>3</td>\n",
       "      <td>3</td>\n",
       "    </tr>\n",
       "    <tr>\n",
       "      <th>1947-01</th>\n",
       "      <td>1</td>\n",
       "      <td>0</td>\n",
       "      <td>0</td>\n",
       "      <td>1</td>\n",
       "      <td>1</td>\n",
       "      <td>0</td>\n",
       "      <td>1</td>\n",
       "      <td>1</td>\n",
       "      <td>1</td>\n",
       "      <td>1</td>\n",
       "      <td>...</td>\n",
       "      <td>1</td>\n",
       "      <td>1</td>\n",
       "      <td>1</td>\n",
       "      <td>0</td>\n",
       "      <td>1</td>\n",
       "      <td>0</td>\n",
       "      <td>0</td>\n",
       "      <td>1</td>\n",
       "      <td>1</td>\n",
       "      <td>1</td>\n",
       "    </tr>\n",
       "    <tr>\n",
       "      <th>1948-07</th>\n",
       "      <td>3</td>\n",
       "      <td>0</td>\n",
       "      <td>0</td>\n",
       "      <td>3</td>\n",
       "      <td>3</td>\n",
       "      <td>0</td>\n",
       "      <td>3</td>\n",
       "      <td>3</td>\n",
       "      <td>3</td>\n",
       "      <td>3</td>\n",
       "      <td>...</td>\n",
       "      <td>3</td>\n",
       "      <td>3</td>\n",
       "      <td>3</td>\n",
       "      <td>0</td>\n",
       "      <td>3</td>\n",
       "      <td>0</td>\n",
       "      <td>0</td>\n",
       "      <td>0</td>\n",
       "      <td>3</td>\n",
       "      <td>3</td>\n",
       "    </tr>\n",
       "    <tr>\n",
       "      <th>1951-12</th>\n",
       "      <td>1</td>\n",
       "      <td>0</td>\n",
       "      <td>0</td>\n",
       "      <td>1</td>\n",
       "      <td>1</td>\n",
       "      <td>0</td>\n",
       "      <td>1</td>\n",
       "      <td>1</td>\n",
       "      <td>1</td>\n",
       "      <td>1</td>\n",
       "      <td>...</td>\n",
       "      <td>1</td>\n",
       "      <td>0</td>\n",
       "      <td>1</td>\n",
       "      <td>0</td>\n",
       "      <td>1</td>\n",
       "      <td>0</td>\n",
       "      <td>0</td>\n",
       "      <td>0</td>\n",
       "      <td>1</td>\n",
       "      <td>1</td>\n",
       "    </tr>\n",
       "    <tr>\n",
       "      <th>1953-07</th>\n",
       "      <td>1</td>\n",
       "      <td>0</td>\n",
       "      <td>0</td>\n",
       "      <td>1</td>\n",
       "      <td>1</td>\n",
       "      <td>0</td>\n",
       "      <td>1</td>\n",
       "      <td>1</td>\n",
       "      <td>1</td>\n",
       "      <td>1</td>\n",
       "      <td>...</td>\n",
       "      <td>1</td>\n",
       "      <td>1</td>\n",
       "      <td>1</td>\n",
       "      <td>0</td>\n",
       "      <td>1</td>\n",
       "      <td>0</td>\n",
       "      <td>0</td>\n",
       "      <td>0</td>\n",
       "      <td>1</td>\n",
       "      <td>1</td>\n",
       "    </tr>\n",
       "    <tr>\n",
       "      <th>...</th>\n",
       "      <td>...</td>\n",
       "      <td>...</td>\n",
       "      <td>...</td>\n",
       "      <td>...</td>\n",
       "      <td>...</td>\n",
       "      <td>...</td>\n",
       "      <td>...</td>\n",
       "      <td>...</td>\n",
       "      <td>...</td>\n",
       "      <td>...</td>\n",
       "      <td>...</td>\n",
       "      <td>...</td>\n",
       "      <td>...</td>\n",
       "      <td>...</td>\n",
       "      <td>...</td>\n",
       "      <td>...</td>\n",
       "      <td>...</td>\n",
       "      <td>...</td>\n",
       "      <td>...</td>\n",
       "      <td>...</td>\n",
       "      <td>...</td>\n",
       "    </tr>\n",
       "    <tr>\n",
       "      <th>2001-01</th>\n",
       "      <td>1</td>\n",
       "      <td>0</td>\n",
       "      <td>0</td>\n",
       "      <td>1</td>\n",
       "      <td>1</td>\n",
       "      <td>0</td>\n",
       "      <td>1</td>\n",
       "      <td>1</td>\n",
       "      <td>1</td>\n",
       "      <td>1</td>\n",
       "      <td>...</td>\n",
       "      <td>1</td>\n",
       "      <td>1</td>\n",
       "      <td>1</td>\n",
       "      <td>0</td>\n",
       "      <td>1</td>\n",
       "      <td>0</td>\n",
       "      <td>0</td>\n",
       "      <td>0</td>\n",
       "      <td>1</td>\n",
       "      <td>1</td>\n",
       "    </tr>\n",
       "    <tr>\n",
       "      <th>2001-03</th>\n",
       "      <td>2</td>\n",
       "      <td>0</td>\n",
       "      <td>0</td>\n",
       "      <td>2</td>\n",
       "      <td>2</td>\n",
       "      <td>0</td>\n",
       "      <td>2</td>\n",
       "      <td>2</td>\n",
       "      <td>2</td>\n",
       "      <td>2</td>\n",
       "      <td>...</td>\n",
       "      <td>2</td>\n",
       "      <td>1</td>\n",
       "      <td>2</td>\n",
       "      <td>0</td>\n",
       "      <td>2</td>\n",
       "      <td>0</td>\n",
       "      <td>0</td>\n",
       "      <td>0</td>\n",
       "      <td>2</td>\n",
       "      <td>2</td>\n",
       "    </tr>\n",
       "    <tr>\n",
       "      <th>2001-06</th>\n",
       "      <td>2</td>\n",
       "      <td>0</td>\n",
       "      <td>0</td>\n",
       "      <td>2</td>\n",
       "      <td>2</td>\n",
       "      <td>0</td>\n",
       "      <td>2</td>\n",
       "      <td>2</td>\n",
       "      <td>2</td>\n",
       "      <td>2</td>\n",
       "      <td>...</td>\n",
       "      <td>2</td>\n",
       "      <td>1</td>\n",
       "      <td>2</td>\n",
       "      <td>0</td>\n",
       "      <td>2</td>\n",
       "      <td>0</td>\n",
       "      <td>0</td>\n",
       "      <td>0</td>\n",
       "      <td>2</td>\n",
       "      <td>2</td>\n",
       "    </tr>\n",
       "    <tr>\n",
       "      <th>2009-09</th>\n",
       "      <td>1</td>\n",
       "      <td>0</td>\n",
       "      <td>0</td>\n",
       "      <td>1</td>\n",
       "      <td>1</td>\n",
       "      <td>0</td>\n",
       "      <td>1</td>\n",
       "      <td>1</td>\n",
       "      <td>1</td>\n",
       "      <td>1</td>\n",
       "      <td>...</td>\n",
       "      <td>1</td>\n",
       "      <td>1</td>\n",
       "      <td>1</td>\n",
       "      <td>0</td>\n",
       "      <td>1</td>\n",
       "      <td>0</td>\n",
       "      <td>1</td>\n",
       "      <td>0</td>\n",
       "      <td>1</td>\n",
       "      <td>1</td>\n",
       "    </tr>\n",
       "    <tr>\n",
       "      <th>2010-10</th>\n",
       "      <td>1</td>\n",
       "      <td>0</td>\n",
       "      <td>0</td>\n",
       "      <td>1</td>\n",
       "      <td>1</td>\n",
       "      <td>0</td>\n",
       "      <td>1</td>\n",
       "      <td>1</td>\n",
       "      <td>1</td>\n",
       "      <td>1</td>\n",
       "      <td>...</td>\n",
       "      <td>1</td>\n",
       "      <td>1</td>\n",
       "      <td>1</td>\n",
       "      <td>0</td>\n",
       "      <td>1</td>\n",
       "      <td>0</td>\n",
       "      <td>0</td>\n",
       "      <td>0</td>\n",
       "      <td>1</td>\n",
       "      <td>1</td>\n",
       "    </tr>\n",
       "  </tbody>\n",
       "</table>\n",
       "<p>108 rows × 55 columns</p>\n",
       "</div>"
      ],
      "text/plain": [
       "                            patient_id  icu_date_admitted  died_date_cpns  \\\n",
       "inflammatory_bowel_disease                                                  \n",
       "1900-01                              3                  0               0   \n",
       "1947-01                              1                  0               0   \n",
       "1948-07                              3                  0               0   \n",
       "1951-12                              1                  0               0   \n",
       "1953-07                              1                  0               0   \n",
       "...                                ...                ...             ...   \n",
       "2001-01                              1                  0               0   \n",
       "2001-03                              2                  0               0   \n",
       "2001-06                              2                  0               0   \n",
       "2009-09                              1                  0               0   \n",
       "2010-10                              1                  0               0   \n",
       "\n",
       "                            died_ons_covid_flag_any  \\\n",
       "inflammatory_bowel_disease                            \n",
       "1900-01                                           3   \n",
       "1947-01                                           1   \n",
       "1948-07                                           3   \n",
       "1951-12                                           1   \n",
       "1953-07                                           1   \n",
       "...                                             ...   \n",
       "2001-01                                           1   \n",
       "2001-03                                           2   \n",
       "2001-06                                           2   \n",
       "2009-09                                           1   \n",
       "2010-10                                           1   \n",
       "\n",
       "                            died_ons_covid_flag_underlying  died_date_ons  \\\n",
       "inflammatory_bowel_disease                                                  \n",
       "1900-01                                                  3              0   \n",
       "1947-01                                                  1              0   \n",
       "1948-07                                                  3              0   \n",
       "1951-12                                                  1              0   \n",
       "1953-07                                                  1              0   \n",
       "...                                                    ...            ...   \n",
       "2001-01                                                  1              0   \n",
       "2001-03                                                  2              0   \n",
       "2001-06                                                  2              0   \n",
       "2009-09                                                  1              0   \n",
       "2010-10                                                  1              0   \n",
       "\n",
       "                            age  sex  imd  rural_urban  ...  bp_dias  \\\n",
       "inflammatory_bowel_disease                              ...            \n",
       "1900-01                       3    3    3            3  ...        3   \n",
       "1947-01                       1    1    1            1  ...        1   \n",
       "1948-07                       3    3    3            3  ...        3   \n",
       "1951-12                       1    1    1            1  ...        1   \n",
       "1953-07                       1    1    1            1  ...        1   \n",
       "...                         ...  ...  ...          ...  ...      ...   \n",
       "2001-01                       1    1    1            1  ...        1   \n",
       "2001-03                       2    2    2            2  ...        2   \n",
       "2001-06                       2    2    2            2  ...        2   \n",
       "2009-09                       1    1    1            1  ...        1   \n",
       "2010-10                       1    1    1            1  ...        1   \n",
       "\n",
       "                            bp_dias_date_measured  hba1c_mmol_per_mol  \\\n",
       "inflammatory_bowel_disease                                              \n",
       "1900-01                                         3                   3   \n",
       "1947-01                                         1                   1   \n",
       "1948-07                                         3                   3   \n",
       "1951-12                                         0                   1   \n",
       "1953-07                                         1                   1   \n",
       "...                                           ...                 ...   \n",
       "2001-01                                         1                   1   \n",
       "2001-03                                         1                   2   \n",
       "2001-06                                         1                   2   \n",
       "2009-09                                         1                   1   \n",
       "2010-10                                         1                   1   \n",
       "\n",
       "                            hba1c_mmol_per_mol_date  hba1c_percentage  \\\n",
       "inflammatory_bowel_disease                                              \n",
       "1900-01                                           0                 3   \n",
       "1947-01                                           0                 1   \n",
       "1948-07                                           0                 3   \n",
       "1951-12                                           0                 1   \n",
       "1953-07                                           0                 1   \n",
       "...                                             ...               ...   \n",
       "2001-01                                           0                 1   \n",
       "2001-03                                           0                 2   \n",
       "2001-06                                           0                 2   \n",
       "2009-09                                           0                 1   \n",
       "2010-10                                           0                 1   \n",
       "\n",
       "                            hba1c_percentage_date  ra_sle_psoriasis  \\\n",
       "inflammatory_bowel_disease                                            \n",
       "1900-01                                         0                 0   \n",
       "1947-01                                         0                 0   \n",
       "1948-07                                         0                 0   \n",
       "1951-12                                         0                 0   \n",
       "1953-07                                         0                 0   \n",
       "...                                           ...               ...   \n",
       "2001-01                                         0                 0   \n",
       "2001-03                                         0                 0   \n",
       "2001-06                                         0                 0   \n",
       "2009-09                                         0                 1   \n",
       "2010-10                                         0                 0   \n",
       "\n",
       "                            gi_bleed_and_ulcer  smoking_status  asthma  \n",
       "inflammatory_bowel_disease                                              \n",
       "1900-01                                      0               3       3  \n",
       "1947-01                                      1               1       1  \n",
       "1948-07                                      0               3       3  \n",
       "1951-12                                      0               1       1  \n",
       "1953-07                                      0               1       1  \n",
       "...                                        ...             ...     ...  \n",
       "2001-01                                      0               1       1  \n",
       "2001-03                                      0               2       2  \n",
       "2001-06                                      0               2       2  \n",
       "2009-09                                      0               1       1  \n",
       "2010-10                                      0               1       1  \n",
       "\n",
       "[108 rows x 55 columns]"
      ]
     },
     "execution_count": 35,
     "metadata": {},
     "output_type": "execute_result"
    }
   ],
   "source": [
    "df.groupby(\"inflammatory_bowel_disease\").count()"
   ]
  },
  {
   "cell_type": "code",
   "execution_count": 28,
   "metadata": {},
   "outputs": [
    {
     "data": {
      "text/plain": [
       "0               NaT\n",
       "1               NaT\n",
       "2               NaT\n",
       "3        2001-06-01\n",
       "4        2001-06-01\n",
       "            ...    \n",
       "104662          NaT\n",
       "104663          NaT\n",
       "104664          NaT\n",
       "104665          NaT\n",
       "104666          NaT\n",
       "Name: hba1c_percentage_date, Length: 104667, dtype: datetime64[ns]"
      ]
     },
     "execution_count": 28,
     "metadata": {},
     "output_type": "execute_result"
    }
   ],
   "source": [
    "pd.to_datetime(df.hba1c_percentage_date)"
   ]
  },
  {
   "cell_type": "code",
   "execution_count": 37,
   "metadata": {},
   "outputs": [
    {
     "name": "stderr",
     "output_type": "stream",
     "text": [
      "/home/seb/.pyenv/versions/3.8.1/envs/stata-docker/lib/python3.8/site-packages/numpy/lib/histograms.py:839: RuntimeWarning: invalid value encountered in greater_equal\n",
      "  keep = (tmp_a >= first_edge)\n",
      "/home/seb/.pyenv/versions/3.8.1/envs/stata-docker/lib/python3.8/site-packages/numpy/lib/histograms.py:840: RuntimeWarning: invalid value encountered in less_equal\n",
      "  keep &= (tmp_a <= last_edge)\n"
     ]
    },
    {
     "data": {
      "image/png": "[encoded data removed]",
      "text/plain": [
       "<Figure size 288x18 with 1 Axes>"
      ]
     },
     "metadata": {
      "needs_background": "light"
     },
     "output_type": "display_data"
    }
   ],
   "source": [
    "sparkline(pd.to_datetime(df['inflammatory_bowel_disease']))"
   ]
  },
  {
   "cell_type": "code",
   "execution_count": 38,
   "metadata": {},
   "outputs": [
    {
     "data": {
      "text/plain": [
       "count                     153\n",
       "unique                    108\n",
       "top       1989-05-01 00:00:00\n",
       "freq                       14\n",
       "first     1900-01-01 00:00:00\n",
       "last      2010-10-01 00:00:00\n",
       "Name: inflammatory_bowel_disease, dtype: object"
      ]
     },
     "execution_count": 38,
     "metadata": {},
     "output_type": "execute_result"
    }
   ],
   "source": [
    "pd.to_datetime(df['inflammatory_bowel_disease']).describe()"
   ]
  },
  {
   "cell_type": "code",
   "execution_count": 13,
   "metadata": {},
   "outputs": [
    {
     "data": {
      "text/plain": [
       "<matplotlib.axes._subplots.AxesSubplot at 0x7fbda25b60d0>"
      ]
     },
     "execution_count": 13,
     "metadata": {},
     "output_type": "execute_result"
    },
    {
     "data": {
      "image/png": "[encoded data removed]",
      "text/plain": [
       "<Figure size 432x288 with 1 Axes>"
      ]
     },
     "metadata": {
      "needs_background": "light"
     },
     "output_type": "display_data"
    }
   ],
   "source": [
    "df.smoking_status.value_counts().plot(kind='bar')"
   ]
  }
 ],
 "metadata": {
  "kernelspec": {
   "display_name": "Python 3",
   "language": "python",
   "name": "python3"
  },
  "language_info": {
   "codemirror_mode": {
    "name": "ipython",
    "version": 3
   },
   "file_extension": ".py",
   "mimetype": "text/x-python",
   "name": "python",
   "nbconvert_exporter": "python",
   "pygments_lexer": "ipython3",
   "version": "3.8.1"
  }
 },
 "nbformat": 4,
 "nbformat_minor": 4
}
